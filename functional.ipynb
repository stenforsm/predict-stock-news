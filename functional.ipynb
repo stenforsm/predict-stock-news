{
  "nbformat": 4,
  "nbformat_minor": 0,
  "metadata": {
    "colab": {
      "name": "functional.ipynb",
      "provenance": [],
      "authorship_tag": "ABX9TyNVOZMAvUs5Zn1kBaw96ucG",
      "include_colab_link": true
    },
    "kernelspec": {
      "name": "python3",
      "display_name": "Python 3"
    },
    "language_info": {
      "name": "python"
    }
  },
  "cells": [
    {
      "cell_type": "markdown",
      "metadata": {
        "id": "view-in-github",
        "colab_type": "text"
      },
      "source": [
        "<a href=\"https://colab.research.google.com/github/stenforsm/predict-stock-news/blob/main/functional.ipynb\" target=\"_parent\"><img src=\"https://colab.research.google.com/assets/colab-badge.svg\" alt=\"Open In Colab\"/></a>"
      ]
    },
    {
      "cell_type": "code",
      "metadata": {
        "id": "QBkdnDqdFRBe"
      },
      "source": [
        "import tensorflow as tf\n",
        "import numpy as np\n",
        "import pandas as pd"
      ],
      "execution_count": 1,
      "outputs": []
    },
    {
      "cell_type": "code",
      "metadata": {
        "id": "kkzAgfHZGYYx"
      },
      "source": [
        "df = pd.read_csv('b_news.csv')\n",
        "spo = df.spo.values\n",
        "price = df[\"close price change\"].values"
      ],
      "execution_count": 2,
      "outputs": []
    },
    {
      "cell_type": "code",
      "metadata": {
        "id": "7VpLDB34Ga7N"
      },
      "source": [
        "# class_plus = 1; class_minus = 0\n",
        "y = np.sign(price)\n",
        "y = np.where(y==1,1,0)"
      ],
      "execution_count": 3,
      "outputs": []
    },
    {
      "cell_type": "code",
      "metadata": {
        "id": "iEcPcAWWGkJH"
      },
      "source": [
        "# train split\n",
        "from sklearn.model_selection import train_test_split\n",
        "spo_train, spo_split, y_train, y_split = train_test_split(spo, y, train_size = 0.8, random_state = 42)\n",
        "# test valid split\n",
        "spo_valid, spo_test, y_valid, y_test = train_test_split(spo_split, y_split, test_size = 0.5, random_state = 42)"
      ],
      "execution_count": 4,
      "outputs": []
    },
    {
      "cell_type": "code",
      "metadata": {
        "colab": {
          "base_uri": "https://localhost:8080/"
        },
        "id": "dh-9KA8kGk6F",
        "outputId": "be041a85-cd2a-444e-d61f-294ff1317ac6"
      },
      "source": [
        "# BOW text vectorization\n",
        "from sklearn.feature_extraction.text import TfidfVectorizer\n",
        "tfidf = TfidfVectorizer(binary=True)\n",
        "tfidf_train = tfidf.fit_transform(spo_train).astype('float16')\n",
        "tfidf_valid = tfidf.transform(spo_valid).astype('float16')\n",
        "tfidf_test = tfidf.transform(spo_test).astype('float16')\n",
        "n = tfidf_train.shape[1] # to determine input shape\n",
        "print(n)"
      ],
      "execution_count": 5,
      "outputs": [
        {
          "output_type": "stream",
          "name": "stdout",
          "text": [
            "4070\n"
          ]
        }
      ]
    },
    {
      "cell_type": "code",
      "metadata": {
        "colab": {
          "base_uri": "https://localhost:8080/"
        },
        "id": "w_ka5ixYJqkx",
        "outputId": "62d142b2-85c6-4fee-caba-b1f9792d9ca3"
      },
      "source": [
        "# count text vectorization\n",
        "from sklearn.feature_extraction.text import CountVectorizer\n",
        "count = CountVectorizer()\n",
        "count_train = (count.fit_transform(spo_train)).toarray()\n",
        "count_valid = (count.transform(spo_valid)).toarray()\n",
        "count_test = (count.transform(spo_test)).toarray()\n",
        "count_train.shape"
      ],
      "execution_count": 6,
      "outputs": [
        {
          "output_type": "execute_result",
          "data": {
            "text/plain": [
              "(6104, 4070)"
            ]
          },
          "metadata": {},
          "execution_count": 6
        }
      ]
    },
    {
      "cell_type": "code",
      "metadata": {
        "colab": {
          "base_uri": "https://localhost:8080/"
        },
        "id": "FJslPYkRJsc-",
        "outputId": "2b64aa22-4423-4492-9c1a-06a35450baa9"
      },
      "source": [
        "from tensorflow.keras import layers\n",
        "\n",
        "tfidf_input = tf.keras.Input(shape=(n), name='tfidf')\n",
        "count_input = tf.keras.Input(shape=(n), name='count')\n",
        "\n",
        "x = layers.concatenate([tfidf_input, count_input]) # merge all available features into a single large vector via concatenation\n",
        "x = layers.Dense(64, activation='relu')(x)\n",
        "outputs = layers.Dense(10)(x)\n",
        "\n",
        "model = tf.keras.Model(inputs=[tfidf_input, count_input], outputs=outputs)\n",
        "model.summary()"
      ],
      "execution_count": 7,
      "outputs": [
        {
          "output_type": "stream",
          "name": "stdout",
          "text": [
            "Model: \"model\"\n",
            "__________________________________________________________________________________________________\n",
            "Layer (type)                    Output Shape         Param #     Connected to                     \n",
            "==================================================================================================\n",
            "tfidf (InputLayer)              [(None, 4070)]       0                                            \n",
            "__________________________________________________________________________________________________\n",
            "count (InputLayer)              [(None, 4070)]       0                                            \n",
            "__________________________________________________________________________________________________\n",
            "concatenate (Concatenate)       (None, 8140)         0           tfidf[0][0]                      \n",
            "                                                                 count[0][0]                      \n",
            "__________________________________________________________________________________________________\n",
            "dense (Dense)                   (None, 64)           521024      concatenate[0][0]                \n",
            "__________________________________________________________________________________________________\n",
            "dense_1 (Dense)                 (None, 10)           650         dense[0][0]                      \n",
            "==================================================================================================\n",
            "Total params: 521,674\n",
            "Trainable params: 521,674\n",
            "Non-trainable params: 0\n",
            "__________________________________________________________________________________________________\n"
          ]
        }
      ]
    },
    {
      "cell_type": "code",
      "metadata": {
        "colab": {
          "base_uri": "https://localhost:8080/"
        },
        "id": "T1NISYcFJ1k-",
        "outputId": "eab3305d-7f11-4723-a949-c5a8d9fb2a5d"
      },
      "source": [
        "from tensorflow.keras import losses\n",
        "\n",
        "model.compile(\n",
        "    loss=tf.keras.losses.SparseCategoricalCrossentropy(from_logits=True),\n",
        "    optimizer=tf.keras.optimizers.RMSprop(),\n",
        "    metrics=[\"accuracy\"],\n",
        ")\n",
        "\n",
        "callback = tf.keras.callbacks.EarlyStopping(monitor='val_accuracy', patience=3)\n",
        "\n",
        "model.fit({'tfidf': tfidf_train, 'count': count_train}, y_train, validation_data= ({'tfidf': tfidf_valid, 'count': count_valid}, y_valid), callbacks=callback, epochs=20)"
      ],
      "execution_count": 10,
      "outputs": [
        {
          "output_type": "stream",
          "name": "stdout",
          "text": [
            "Epoch 1/20\n",
            "191/191 [==============================] - 2s 10ms/step - loss: 0.4619 - accuracy: 0.7849 - val_loss: 0.6618 - val_accuracy: 0.6710\n",
            "Epoch 2/20\n",
            "191/191 [==============================] - 2s 9ms/step - loss: 0.4268 - accuracy: 0.8032 - val_loss: 0.6760 - val_accuracy: 0.6710\n",
            "Epoch 3/20\n",
            "191/191 [==============================] - 2s 8ms/step - loss: 0.3988 - accuracy: 0.8211 - val_loss: 0.7021 - val_accuracy: 0.6527\n",
            "Epoch 4/20\n",
            "191/191 [==============================] - 2s 8ms/step - loss: 0.3737 - accuracy: 0.8354 - val_loss: 0.7002 - val_accuracy: 0.6894\n",
            "Epoch 5/20\n",
            "191/191 [==============================] - 2s 8ms/step - loss: 0.3481 - accuracy: 0.8467 - val_loss: 0.7226 - val_accuracy: 0.6697\n",
            "Epoch 6/20\n",
            "191/191 [==============================] - 2s 8ms/step - loss: 0.3263 - accuracy: 0.8565 - val_loss: 0.7225 - val_accuracy: 0.6776\n",
            "Epoch 7/20\n",
            "191/191 [==============================] - 2s 9ms/step - loss: 0.3049 - accuracy: 0.8691 - val_loss: 0.7397 - val_accuracy: 0.6868\n"
          ]
        },
        {
          "output_type": "execute_result",
          "data": {
            "text/plain": [
              "<keras.callbacks.History at 0x7f6e2e65f750>"
            ]
          },
          "metadata": {},
          "execution_count": 10
        }
      ]
    },
    {
      "cell_type": "code",
      "metadata": {
        "colab": {
          "base_uri": "https://localhost:8080/"
        },
        "id": "jY_18C7YJ52z",
        "outputId": "5e5c3d28-4420-4e27-f01f-c2185083f3fc"
      },
      "source": [
        "model.evaluate({'tfidf': tfidf_test, 'count': count_test}, y_test)"
      ],
      "execution_count": 11,
      "outputs": [
        {
          "output_type": "stream",
          "name": "stdout",
          "text": [
            "24/24 [==============================] - 0s 3ms/step - loss: 0.7640 - accuracy: 0.6649\n"
          ]
        },
        {
          "output_type": "execute_result",
          "data": {
            "text/plain": [
              "[0.7640295624732971, 0.6649214625358582]"
            ]
          },
          "metadata": {},
          "execution_count": 11
        }
      ]
    },
    {
      "cell_type": "code",
      "metadata": {
        "colab": {
          "base_uri": "https://localhost:8080/"
        },
        "id": "1k5c9TswJ8AS",
        "outputId": "9e2956d8-a015-4274-beb8-16ab5e13f95a"
      },
      "source": [
        "predictions = model.predict({'tfidf': tfidf_test, 'count': count_test})\n",
        "y_predict = np.argmax(predictions, axis=1)\n",
        "\n",
        "from sklearn.metrics import confusion_matrix\n",
        "print(confusion_matrix(y_test, y_predict))\n",
        "\n",
        "from sklearn.metrics import matthews_corrcoef\n",
        "print(matthews_corrcoef(y_test, y_predict))"
      ],
      "execution_count": 12,
      "outputs": [
        {
          "output_type": "stream",
          "name": "stdout",
          "text": [
            "[[335  91]\n",
            " [165 173]]\n",
            "0.31146691750601396\n"
          ]
        }
      ]
    }
  ]
}