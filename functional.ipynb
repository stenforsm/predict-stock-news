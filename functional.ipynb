{
  "nbformat": 4,
  "nbformat_minor": 0,
  "metadata": {
    "colab": {
      "name": "functional.ipynb",
      "provenance": [],
      "collapsed_sections": [],
      "authorship_tag": "ABX9TyOpMPJram/zZ8dnv0+5RsQP",
      "include_colab_link": true
    },
    "kernelspec": {
      "name": "python3",
      "display_name": "Python 3"
    },
    "language_info": {
      "name": "python"
    }
  },
  "cells": [
    {
      "cell_type": "markdown",
      "metadata": {
        "id": "view-in-github",
        "colab_type": "text"
      },
      "source": [
        "<a href=\"https://colab.research.google.com/github/stenforsm/predict-stock-news/blob/main/functional.ipynb\" target=\"_parent\"><img src=\"https://colab.research.google.com/assets/colab-badge.svg\" alt=\"Open In Colab\"/></a>"
      ]
    },
    {
      "cell_type": "code",
      "metadata": {
        "id": "QBkdnDqdFRBe"
      },
      "source": [
        "import tensorflow as tf\n",
        "import numpy as np\n",
        "import pandas as pd"
      ],
      "execution_count": 1,
      "outputs": []
    },
    {
      "cell_type": "code",
      "metadata": {
        "id": "kkzAgfHZGYYx"
      },
      "source": [
        "df = pd.read_csv('g_news.csv')\n",
        "spo = df.spo.values\n",
        "price = df[\"close price change\"].values"
      ],
      "execution_count": 2,
      "outputs": []
    },
    {
      "cell_type": "code",
      "metadata": {
        "id": "7VpLDB34Ga7N"
      },
      "source": [
        "# class_plus = 1; class_minus = 0\n",
        "y = np.sign(price)\n",
        "y = np.where(y==1,1,0)"
      ],
      "execution_count": 3,
      "outputs": []
    },
    {
      "cell_type": "code",
      "metadata": {
        "id": "iEcPcAWWGkJH"
      },
      "source": [
        "# train split\n",
        "from sklearn.model_selection import train_test_split\n",
        "spo_train, spo_split, y_train, y_split = train_test_split(spo, y, train_size = 0.8, random_state = 42)\n",
        "# test valid split\n",
        "spo_valid, spo_test, y_valid, y_test = train_test_split(spo_split, y_split, test_size = 0.5, random_state = 42)"
      ],
      "execution_count": 5,
      "outputs": []
    },
    {
      "cell_type": "code",
      "metadata": {
        "id": "dh-9KA8kGk6F"
      },
      "source": [
        "# BOW text vectorization\n",
        "from sklearn.feature_extraction.text import TfidfVectorizer\n",
        "tfidf = TfidfVectorizer(binary=True)\n",
        "tfidf_train = tfidf.fit_transform(spo_train).astype('float16')\n",
        "tfidf_valid = tfidf.transform(spo_valid).astype('float16')\n",
        "tfidf_test = tfidf.transform(spo_test).astype('float16')\n",
        "n = tfidf_train.shape[1] # to determine input shape"
      ],
      "execution_count": 6,
      "outputs": []
    },
    {
      "cell_type": "code",
      "metadata": {
        "id": "w_ka5ixYJqkx"
      },
      "source": [
        "# count text vectorization\n",
        "from sklearn.feature_extraction.text import CountVectorizer\n",
        "count = CountVectorizer()\n",
        "count_train = (count.fit_transform(spo_train)).toarray()\n",
        "count_valid = (count.transform(spo_valid)).toarray()\n",
        "count_test = (count.transform(spo_test)).toarray()"
      ],
      "execution_count": 7,
      "outputs": []
    },
    {
      "cell_type": "code",
      "metadata": {
        "colab": {
          "base_uri": "https://localhost:8080/"
        },
        "id": "FJslPYkRJsc-",
        "outputId": "7022424c-6e00-4a93-a4fd-55b5c55e7369"
      },
      "source": [
        "from tensorflow.keras import layers\n",
        "\n",
        "tfidf_input = tf.keras.Input(shape=(n), name='tfidf')\n",
        "count_input = tf.keras.Input(shape=(n), name='count')\n",
        "\n",
        "x = layers.concatenate([tfidf_input, count_input]) # merge all available features into a single large vector via concatenation\n",
        "x = layers.Dense(64, activation='relu')(x)\n",
        "x = layers.Dense(64, activation='relu')(x)\n",
        "x = layers.Dense(16, activation='relu')(x)\n",
        "outputs = layers.Dense(10)(x)\n",
        "\n",
        "model = tf.keras.Model(inputs=[tfidf_input, count_input], outputs=outputs)\n",
        "model.summary()"
      ],
      "execution_count": 8,
      "outputs": [
        {
          "output_type": "stream",
          "name": "stdout",
          "text": [
            "Model: \"model\"\n",
            "__________________________________________________________________________________________________\n",
            "Layer (type)                    Output Shape         Param #     Connected to                     \n",
            "==================================================================================================\n",
            "tfidf (InputLayer)              [(None, 7437)]       0                                            \n",
            "__________________________________________________________________________________________________\n",
            "count (InputLayer)              [(None, 7437)]       0                                            \n",
            "__________________________________________________________________________________________________\n",
            "concatenate (Concatenate)       (None, 14874)        0           tfidf[0][0]                      \n",
            "                                                                 count[0][0]                      \n",
            "__________________________________________________________________________________________________\n",
            "dense (Dense)                   (None, 64)           952000      concatenate[0][0]                \n",
            "__________________________________________________________________________________________________\n",
            "dense_1 (Dense)                 (None, 64)           4160        dense[0][0]                      \n",
            "__________________________________________________________________________________________________\n",
            "dense_2 (Dense)                 (None, 16)           1040        dense_1[0][0]                    \n",
            "__________________________________________________________________________________________________\n",
            "dense_3 (Dense)                 (None, 10)           170         dense_2[0][0]                    \n",
            "==================================================================================================\n",
            "Total params: 957,370\n",
            "Trainable params: 957,370\n",
            "Non-trainable params: 0\n",
            "__________________________________________________________________________________________________\n"
          ]
        }
      ]
    },
    {
      "cell_type": "code",
      "metadata": {
        "colab": {
          "base_uri": "https://localhost:8080/"
        },
        "id": "T1NISYcFJ1k-",
        "outputId": "d4766433-1c1e-47fe-9beb-759474e167be"
      },
      "source": [
        "from tensorflow.keras import losses\n",
        "\n",
        "model.compile(\n",
        "    loss=tf.keras.losses.SparseCategoricalCrossentropy(from_logits=True),\n",
        "    optimizer=tf.keras.optimizers.RMSprop(),\n",
        "    metrics=[\"accuracy\"]\n",
        ")\n",
        "\n",
        "callback = tf.keras.callbacks.EarlyStopping(monitor='val_accuracy', patience=2)\n",
        "\n",
        "model.fit({'tfidf': tfidf_train, 'count': count_train}, y_train, validation_data= ({'tfidf': tfidf_valid, 'count': count_valid}, y_valid), callbacks=callback, epochs=20)"
      ],
      "execution_count": 9,
      "outputs": [
        {
          "output_type": "stream",
          "name": "stdout",
          "text": [
            "Epoch 1/20\n",
            "283/283 [==============================] - 7s 18ms/step - loss: 0.9137 - accuracy: 0.5318 - val_loss: 0.6537 - val_accuracy: 0.6118\n",
            "Epoch 2/20\n",
            "283/283 [==============================] - 6s 20ms/step - loss: 0.6068 - accuracy: 0.6709 - val_loss: 0.6470 - val_accuracy: 0.6233\n",
            "Epoch 3/20\n",
            "283/283 [==============================] - 5s 18ms/step - loss: 0.5328 - accuracy: 0.7412 - val_loss: 0.6780 - val_accuracy: 0.6278\n",
            "Epoch 4/20\n",
            "283/283 [==============================] - 5s 19ms/step - loss: 0.4782 - accuracy: 0.7783 - val_loss: 0.6911 - val_accuracy: 0.6225\n",
            "Epoch 5/20\n",
            "283/283 [==============================] - 6s 19ms/step - loss: 0.4333 - accuracy: 0.8007 - val_loss: 0.7301 - val_accuracy: 0.6348\n",
            "Epoch 6/20\n",
            "283/283 [==============================] - 6s 19ms/step - loss: 0.3931 - accuracy: 0.8230 - val_loss: 0.7433 - val_accuracy: 0.6446\n",
            "Epoch 7/20\n",
            "283/283 [==============================] - 6s 19ms/step - loss: 0.3515 - accuracy: 0.8488 - val_loss: 0.8031 - val_accuracy: 0.6463\n",
            "Epoch 8/20\n",
            "283/283 [==============================] - 5s 18ms/step - loss: 0.3140 - accuracy: 0.8691 - val_loss: 0.8129 - val_accuracy: 0.6631\n",
            "Epoch 9/20\n",
            "283/283 [==============================] - 5s 19ms/step - loss: 0.2794 - accuracy: 0.8838 - val_loss: 0.8346 - val_accuracy: 0.6729\n",
            "Epoch 10/20\n",
            "283/283 [==============================] - 6s 19ms/step - loss: 0.2469 - accuracy: 0.8999 - val_loss: 0.8736 - val_accuracy: 0.6622\n",
            "Epoch 11/20\n",
            "283/283 [==============================] - 5s 18ms/step - loss: 0.2208 - accuracy: 0.9129 - val_loss: 0.9459 - val_accuracy: 0.6808\n",
            "Epoch 12/20\n",
            "283/283 [==============================] - 5s 18ms/step - loss: 0.1984 - accuracy: 0.9236 - val_loss: 0.9309 - val_accuracy: 0.6684\n",
            "Epoch 13/20\n",
            "283/283 [==============================] - 5s 18ms/step - loss: 0.1759 - accuracy: 0.9329 - val_loss: 0.9908 - val_accuracy: 0.6799\n"
          ]
        },
        {
          "output_type": "execute_result",
          "data": {
            "text/plain": [
              "<keras.callbacks.History at 0x7f83a895bd90>"
            ]
          },
          "metadata": {},
          "execution_count": 9
        }
      ]
    },
    {
      "cell_type": "code",
      "metadata": {
        "colab": {
          "base_uri": "https://localhost:8080/"
        },
        "id": "jY_18C7YJ52z",
        "outputId": "87668c17-cc61-4cb0-fdb8-a0f863d9276b"
      },
      "source": [
        "model.evaluate({'tfidf': tfidf_test, 'count': count_test}, y_test)"
      ],
      "execution_count": 10,
      "outputs": [
        {
          "output_type": "stream",
          "name": "stdout",
          "text": [
            "36/36 [==============================] - 0s 6ms/step - loss: 0.9753 - accuracy: 0.6899\n"
          ]
        },
        {
          "output_type": "execute_result",
          "data": {
            "text/plain": [
              "[0.9753336310386658, 0.6899293065071106]"
            ]
          },
          "metadata": {},
          "execution_count": 10
        }
      ]
    },
    {
      "cell_type": "code",
      "metadata": {
        "colab": {
          "base_uri": "https://localhost:8080/"
        },
        "id": "1k5c9TswJ8AS",
        "outputId": "cb9730f7-c3af-496a-d969-3b69d3a30a8c"
      },
      "source": [
        "predictions = model.predict({'tfidf': tfidf_test, 'count': count_test})\n",
        "y_predict = np.argmax(predictions, axis=1)\n",
        "\n",
        "from sklearn.metrics import confusion_matrix\n",
        "print(confusion_matrix(y_test, y_predict))\n",
        "\n",
        "from sklearn.metrics import matthews_corrcoef\n",
        "print(matthews_corrcoef(y_test, y_predict))"
      ],
      "execution_count": 11,
      "outputs": [
        {
          "output_type": "stream",
          "name": "stdout",
          "text": [
            "[[543 148]\n",
            " [203 238]]\n",
            "0.33484707205914116\n"
          ]
        }
      ]
    }
  ]
}